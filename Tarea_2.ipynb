{
 "cells": [
  {
   "cell_type": "markdown",
   "metadata": {},
   "source": [
    "<img style=\"float: left; margin: 30px 15px 15px 15px;\" src=\"https://pngimage.net/wp-content/uploads/2018/06/logo-iteso-png-5.png\" width=\"300\" height=\"500\" /> \n",
    "    \n",
    "    \n",
    "### <font color='navy'> Simulación de procesos financieros. \n",
    "\n",
    "**Nombres:** Eduardo Loza de la Torre y Rubén Hernández Guevara.\n",
    "\n",
    "**Fecha:** 5 de febrero del 2021.\n",
    "\n",
    "**Expediente** : 713423, 717710 \n",
    "**Profesor:** Oscar David Jaramillo Zuluaga.\n",
    "\n",
    "# Tarea 2b: Clase 4\n",
    "https://github.com/EduardoLoza/Proyecto_Conjunto_ELoza_RHernandez"
   ]
  },
  {
   "cell_type": "code",
   "execution_count": 6,
   "metadata": {},
   "outputs": [],
   "source": [
    "from functools import reduce\n",
    "import numpy as np\n",
    "import pandas as pd\n",
    "from pandas import DataFrame\n",
    "import matplotlib.pyplot as plt\n",
    "import scipy.special as sps "
   ]
  },
  {
   "cell_type": "markdown",
   "metadata": {},
   "source": [
    "# Tarea 2:\n",
    "\n",
    "# 1. \n",
    "Imagine una rutina contable utilizada en una librería. Funciona en una lista con sublistas, que se ven así:\n",
    "![imagen.png](attachment:imagen.png)\n",
    "Escriba un programa en Python, que devuelve una lista con tuplas de tamaño 2. Cada tupla consiste en el número de pedido y el costo total del pedido. El producto debe aumentarse en 10€ si el valor de la orden es inferior a 100,00 €. \n",
    "Escribe un programa Python usando unicamente las funciones **lambda y map**.\n",
    "\n",
    "`orders = [ [\"34587\", \"Learning Python, Mark Lutz\", 4, 40.95], \n",
    "           [\"98762\", \"Programming Python, Mark Lutz\", 5, 56.80], \n",
    "           [\"77226\", \"Head First Python, Paul Barry\", 3,32.95],\n",
    "           [\"88112\", \"Einführung in Python3, Bernd Klein\", 3, 24.99]]`\n",
    "           "
   ]
  },
  {
   "cell_type": "code",
   "execution_count": 2,
   "metadata": {},
   "outputs": [],
   "source": [
    "orders1 = [ [\"34587\", \"Learning Python, Mark Lutz\", 4, 40.95], \n",
    "           [\"98762\", \"Programming Python, Mark Lutz\", 5, 56.80], \n",
    "           [\"77226\", \"Head First Python, Paul Barry\", 3,32.95],\n",
    "           [\"88112\", \"Einführung in Python3, Bernd Klein\", 3, 24.99]]"
   ]
  },
  {
   "cell_type": "code",
   "execution_count": 3,
   "metadata": {},
   "outputs": [
    {
     "data": {
      "text/plain": [
       "[('34587', 163.8),\n",
       " ('98762', 284.0),\n",
       " ('77226', 108.85000000000001),\n",
       " ('88112', 84.97)]"
      ]
     },
     "execution_count": 3,
     "metadata": {},
     "output_type": "execute_result"
    }
   ],
   "source": [
    "\n",
    "## Solución 1 Eduardo\n",
    "\n",
    "p=lambda x,y:x*y\n",
    "def aum(value):\n",
    "    if(value<100):\n",
    "        value+=10\n",
    "    return value\n",
    "mult=list(map(aum,[p(orders1[i][2],orders1[i][3]) for i in np.arange(len(orders1))]))\n",
    "mult\n",
    "\n",
    "result=list(map(lambda x,y: (x[0],y),orders1,mult))\n",
    "result"
   ]
  },
  {
   "cell_type": "code",
   "execution_count": 4,
   "metadata": {},
   "outputs": [
    {
     "data": {
      "text/plain": [
       "[('34587', 163.8),\n",
       " ('98762', 284.0),\n",
       " ('77226', 108.85000000000001),\n",
       " ('88112', 84.97)]"
      ]
     },
     "execution_count": 4,
     "metadata": {},
     "output_type": "execute_result"
    }
   ],
   "source": [
    "## Solución 1 Rubén\n",
    "lambda_f1 = lambda x: (x[0], x[2] * x[3]) #Toma el primer elemento y multiplica Quantity*Price\n",
    "lambda_f2 = lambda x: x if x[1] >= 100 else (x[0], x[1] + 10) #Aumenta 10 si la orden es menor a 100\n",
    "\n",
    "orden1 = list(map(lambda_f2, map(lambda_f1, orders1)))\n",
    "orden1"
   ]
  },
  {
   "cell_type": "markdown",
   "metadata": {},
   "source": [
    "# 2.\n",
    "La misma librería, pero esta vez trabajamos en una lista diferente. Las sublistas de nuestras listas se ven así: \n",
    "[número de orden, (número de artículo, cantidad, precio por unidad), ... (número de artículo, cantidad, precio por unidad)] \n",
    "\n",
    "`orders = [[1, (\"5464\", 4, 9.99), (\"8274\",18,12.99), (\"9744\", 9, 44.95)], \n",
    "\t       [2, (\"5464\", 9, 9.99), (\"9744\", 9, 44.95)],\n",
    "\t       [3, (\"5464\", 9, 9.99), (\"88112\", 11, 24.99)],\n",
    "           [4, (\"8732\", 7, 11.99), (\"7733\",11,18.99), (\"88112\", 5, 39.95)] ]`\n",
    "\n",
    "Escriba un programa que devuelva una lista de dos tuplas que tengan la información de (número de pedido, cantidad total de pedido). Utilice la función `Reduce`. Recuerde el precio del pedido del producto debe aumentarse en 10€ si el valor de la orden es inferior a 100,00 €.\n",
    "\n"
   ]
  },
  {
   "cell_type": "code",
   "execution_count": 13,
   "metadata": {},
   "outputs": [],
   "source": [
    "orders2 = [[1, (\"5464\", 4, 9.99), (\"8274\",18,12.99), (\"9744\", 9, 44.95)], \n",
    "          [2, (\"5464\", 9, 9.99), (\"9744\", 9, 44.95)],\n",
    "          [3, (\"5464\", 9, 9.99), (\"88112\", 11, 24.99)],\n",
    "          [4, (\"8732\", 7, 11.99), (\"7733\",11,18.99), (\"88112\", 5, 39.95)] ]"
   ]
  },
  {
   "cell_type": "code",
   "execution_count": 17,
   "metadata": {},
   "outputs": [
    {
     "name": "stdout",
     "output_type": "stream",
     "text": [
      "[(1, 678.3299999999999), (2, 494.46000000000004), (3, 364.79999999999995), (4, 492.57)]\n"
     ]
    }
   ],
   "source": [
    "## Solución 2 Eduardo\n",
    "total = list(map(lambda i: i if i[1]>=100 else (i[0],i[1]+10),\n",
    "               map(lambda x:(x[0],reduce(lambda a,b:a+b,list(map(lambda y:y[1]*y[2] ,x[1:])))),orders2)))\n",
    "\n",
    "print (total)"
   ]
  },
  {
   "cell_type": "code",
   "execution_count": 7,
   "metadata": {},
   "outputs": [
    {
     "data": {
      "text/plain": [
       "[(1, 678.3299999999999),\n",
       " (2, 494.46000000000004),\n",
       " (3, 364.79999999999995),\n",
       " (4, 492.57)]"
      ]
     },
     "execution_count": 7,
     "metadata": {},
     "output_type": "execute_result"
    }
   ],
   "source": [
    "## Solución 2 Ruben\n",
    "sol = list(map(lambda k: k if k[1]>=100 else (k[0],k[1]+10),\n",
    "               map(lambda x:(x[0],reduce(lambda a,b:a+b,list(map(lambda y:y[1]*y[2] ,x[1:])))),orders2)))\n",
    "sol"
   ]
  },
  {
   "cell_type": "markdown",
   "metadata": {},
   "source": [
    "3. Resolver los anteriores ejercicios usando pandas (DataFrame)"
   ]
  },
  {
   "cell_type": "code",
   "execution_count": 10,
   "metadata": {},
   "outputs": [
    {
     "name": "stdout",
     "output_type": "stream",
     "text": [
      "        0 Order number\n",
      "0   163.8        34587\n",
      "1     284        98762\n",
      "2  108.85        77226\n",
      "3   84.97        88112\n"
     ]
    },
    {
     "data": {
      "text/plain": [
       "[0    678.33\n",
       " 1    494.46\n",
       " 2    364.80\n",
       " 3    492.57\n",
       " dtype: float64]"
      ]
     },
     "execution_count": 10,
     "metadata": {},
     "output_type": "execute_result"
    }
   ],
   "source": [
    "## Solución 3 Eduardo\n",
    "#Ejercicio 1\n",
    "df1=pd.DataFrame(columns=[\"Order number\",\"Book Title and Author\",\"Quantity\",\"Price per Item\"], data=orders1)\n",
    "res3_1=[(df1.iloc[:,-2]*df1.iloc[:,-1]).apply(lambda x: x if x>=100 else (x+10))]\n",
    "res3_1=pd.DataFrame(res3_1)\n",
    "res3_1=res3_1.append(df1.iloc[:,0])\n",
    "print(res3_1.T)\n",
    "#Ejercicio 2\n",
    "orders2 = [[1, \"5464\", 4, 9.99, \"8274\",18,12.99, \"9744\", 9, 44.95], \n",
    "           [2, \"5464\", 9, 9.99, \"9744\", 9, 44.95, 0,0,0],\n",
    "           [3, \"5464\", 9, 9.99, \"88112\", 11, 24.99, 0,0,0],\n",
    "           [4, \"8732\", 7, 11.99, \"7733\",11,18.99, \"88112\", 5, 39.95]]\n",
    "df2=pd.DataFrame(orders2)\n",
    "\n",
    "res3_2= [((df2.iloc[:,2]*df2.iloc[:,3])+(df2.iloc[:,5]*df2.iloc[:,6])+(df2.iloc[:,8]*df2.iloc[:,9])).apply(lambda x: x if x>=100 else (x+10))]\n",
    "res3_2"
   ]
  },
  {
   "cell_type": "code",
   "execution_count": 11,
   "metadata": {},
   "outputs": [
    {
     "name": "stdout",
     "output_type": "stream",
     "text": [
      "        0 Order number\n",
      "0   163.8        34587\n",
      "1     284        98762\n",
      "2  108.85        77226\n",
      "3   84.97        88112\n"
     ]
    },
    {
     "data": {
      "text/plain": [
       "[0    678.33\n",
       " 1    494.46\n",
       " 2    364.80\n",
       " 3    492.57\n",
       " dtype: float64]"
      ]
     },
     "execution_count": 11,
     "metadata": {},
     "output_type": "execute_result"
    }
   ],
   "source": [
    "## Solución 3 Rubén\n",
    "#1\n",
    "sol3_1=[(df1.iloc[:,-2]*df1.iloc[:,-1]).apply(lambda x: x if x>=100 else (x+10))]\n",
    "sol3_1=pd.DataFrame(sol3_1)\n",
    "sol3_1=sol3_1.append(df1.iloc[:,0])\n",
    "print(res3_1.T)\n",
    "#2\n",
    "sol3_2= [((df2.iloc[:,2]*df2.iloc[:,3])+(df2.iloc[:,5]*df2.iloc[:,6])+(df2.iloc[:,8]*df2.iloc[:,9])).apply(lambda x: x if x>=100 else (x+10))]\n",
    "sol3_2"
   ]
  },
  {
   "cell_type": "markdown",
   "metadata": {},
   "source": [
    "# 4.\n",
    "Use filter to eliminate all words that are shorter than 4 letters from a list of words\n",
    "`list='the notion of a lambda function goes all the way back to the origin of computer science'`"
   ]
  },
  {
   "cell_type": "code",
   "execution_count": 2,
   "metadata": {},
   "outputs": [
    {
     "name": "stdout",
     "output_type": "stream",
     "text": [
      "['notion', 'lambda', 'function', 'goes', 'back', 'origin', 'computer', 'science']\n"
     ]
    }
   ],
   "source": [
    "## Solución 4 Eduardo\n",
    "# 4 Eduardo\n",
    "lista ='the notion of a lambda function goes all the way back to the origin of computer science'.split()\n",
    "lista\n",
    "\n",
    "res = filter((lambda x: len(x) >= 4), lista)\n",
    "print(list(res))"
   ]
  },
  {
   "cell_type": "code",
   "execution_count": 6,
   "metadata": {},
   "outputs": [
    {
     "data": {
      "text/plain": [
       "['notion',\n",
       " 'lambda',\n",
       " 'function',\n",
       " 'goes',\n",
       " 'back',\n",
       " 'origin',\n",
       " 'computer',\n",
       " 'science']"
      ]
     },
     "execution_count": 6,
     "metadata": {},
     "output_type": "execute_result"
    }
   ],
   "source": [
    "## Solución 4 Rubén\n",
    "words = \"the notion of a lambda function goes all the way back to the origin of computer science\"\n",
    "fun_del_minor_4 = lambda x: len(x) >= 4 #Discrimina las palabras que tengan menos de 4 letras\n",
    "x = list(filter(fun_del_minor_4, words.split()))\n",
    "x"
   ]
  },
  {
   "cell_type": "markdown",
   "metadata": {},
   "source": [
    "# 5.\n",
    "Use filter to determine the percentage of Fahrenheit temperatures in a list are within the range 32 to 80"
   ]
  },
  {
   "cell_type": "code",
   "execution_count": 8,
   "metadata": {},
   "outputs": [
    {
     "name": "stdout",
     "output_type": "stream",
     "text": [
      "[100.75749203  57.99590723  76.05806577  28.64694552 109.42749183\n",
      " 108.17883723 107.14585475  69.38668289  70.62190923  54.83448096\n",
      "  61.77402112  30.1596678   82.22145894 102.50336262  89.59396915\n",
      "  81.89093605  88.71870817  95.4117635   98.20217446  63.09202878\n",
      "  93.94016139  31.83015673  43.36638079  57.23398628  80.99142761\n",
      "  43.6480719   26.67158013  94.94333881  34.41081883  45.42313135]\n",
      "El porcentaje de temperaturas entre 32 y 80 es: 40.00 porciento\n"
     ]
    }
   ],
   "source": [
    "## Solución 5 Eduardo\n",
    "temperatures = np.random.uniform(25,110,30)\n",
    "lista= filter(lambda x:x>=32 and x<=80,temperatures)\n",
    "print(temperatures)\n",
    "print('El porcentaje de temperaturas entre 32 y 80 es: %.2f porciento' %((len(list(lista))/len(temperatures))*100))"
   ]
  },
  {
   "cell_type": "code",
   "execution_count": 9,
   "metadata": {},
   "outputs": [
    {
     "data": {
      "text/plain": [
       "0.4"
      ]
     },
     "execution_count": 9,
     "metadata": {},
     "output_type": "execute_result"
    }
   ],
   "source": [
    "## Solución 5 Rubén\n",
    "temp_range = lambda x: 32 <= x <= 80 #Almacena los valores que estén entre el rango\n",
    "temp = len(list(filter(temp_range, temperatures)))/len(temperatures)\n",
    "temp"
   ]
  },
  {
   "cell_type": "markdown",
   "metadata": {},
   "source": [
    "# 6.\n",
    "Use reduce to find the lower left corner (minimum x and minimum y value) for a list of point locations\n",
    "> **Hint**: Explore the command `np.minimum.reduce` [link](https://docs.scipy.org/doc/numpy/reference/generated/numpy.ufunc.reduce.html)"
   ]
  },
  {
   "cell_type": "code",
   "execution_count": 11,
   "metadata": {},
   "outputs": [
    {
     "name": "stdout",
     "output_type": "stream",
     "text": [
      "[[63 39]\n",
      " [28 29]\n",
      " [50 43]\n",
      " [57 84]\n",
      " [34 12]\n",
      " [11 31]\n",
      " [41 52]\n",
      " [51 74]\n",
      " [53 56]\n",
      " [91 31]\n",
      " [36 12]\n",
      " [29 61]\n",
      " [62 78]\n",
      " [ 7 83]\n",
      " [39 22]\n",
      " [44 62]\n",
      " [89 58]\n",
      " [63 38]\n",
      " [47 60]\n",
      " [67 16]\n",
      " [57 98]\n",
      " [41 94]\n",
      " [80 36]\n",
      " [20 21]\n",
      " [77 45]\n",
      " [24 84]\n",
      " [75 50]\n",
      " [89 60]\n",
      " [ 7 25]\n",
      " [83 46]]\n"
     ]
    },
    {
     "data": {
      "text/plain": [
       "array([ 7, 12])"
      ]
     },
     "execution_count": 11,
     "metadata": {},
     "output_type": "execute_result"
    }
   ],
   "source": [
    "point_xy = np.random.randint(0,100,[30,2])\n",
    "print(point_xy)\n",
    "## Solución 6 Eduardo\n",
    "x = np.minimum.reduce(point_xy)\n",
    "x"
   ]
  },
  {
   "cell_type": "code",
   "execution_count": 12,
   "metadata": {},
   "outputs": [
    {
     "data": {
      "text/plain": [
       "array([ 7, 12])"
      ]
     },
     "execution_count": 12,
     "metadata": {},
     "output_type": "execute_result"
    }
   ],
   "source": [
    "## Solución 6 Rubén\n",
    "np.minimum.reduce(point_xy)"
   ]
  },
  {
   "cell_type": "markdown",
   "metadata": {},
   "source": [
    "## 7\n",
    "**Vectorizar distribución de poisson**\n",
    "$$\\textbf{Función de densidad de probabilidad}\\\\p(k)=\\frac{\\lambda^k e^{-\\lambda}}{k!},\\quad k\\in \\mathbb{N}$$"
   ]
  },
  {
   "cell_type": "code",
   "execution_count": 12,
   "metadata": {},
   "outputs": [
    {
     "data": {
      "text/plain": [
       "<matplotlib.legend.Legend at 0x1d2ccdd3430>"
      ]
     },
     "execution_count": 12,
     "metadata": {},
     "output_type": "execute_result"
    },
    {
     "data": {
      "image/png": "[encoded data removed]",
      "text/plain": [
       "<Figure size 720x720 with 2 Axes>"
      ]
     },
     "metadata": {
      "needs_background": "light"
     },
     "output_type": "display_data"
    }
   ],
   "source": [
    "## Solucion Eduardo\n",
    "N = 30\n",
    "l = [1, 3, 5]\n",
    "k = np.arange(N)\n",
    "\n",
    "p = lambda k,l: (l**k * np.exp(-l)) / sps.factorial(k)\n",
    "\n",
    "# Graficar para todo l una gráfica de p(k) usando subplots (como matrices)\n",
    "P= np.array([p(i,k) for i in l])\n",
    "fig, (ax1,ax2) = plt.subplots(2,1, figsize=(10,10))\n",
    "ax1.plot(P,'o',label='$\\lambda$=%s' % l, markersize=5)\n",
    "ax2.plot(np.cumsum(P),'o',label='$\\lambda$=%s' % l, markersize=2)\n",
    "#legend en latex para cada l\n",
    "ax1.legend([f'$\\lambda={l}$'])\n",
    "ax2.legend([f'$\\lambda={l}$'])"
   ]
  },
  {
   "cell_type": "code",
   "execution_count": null,
   "metadata": {},
   "outputs": [],
   "source": [
    "## Solucion Ruben"
   ]
  },
  {
   "cell_type": "code",
   "execution_count": null,
   "metadata": {},
   "outputs": [],
   "source": [
    "N = 30\n",
    "l = [1, 3, 5]\n",
    "k = np.arange(N)\n",
    "\n",
    "p = lambda k,l: (l**k * np.exp(-l)) / sps.factorial(k)\n",
    "\n",
    "# Graficar para todo l una gráfica de p(k) usando subplots (como matrices)\n",
    "P= np.array([p(i,k) for i in l])\n",
    "fig, (ax1,ax2) = plt.subplots(2,1, figsize=(10,10))\n",
    "ax1.plot(P,'o',label='$\\lambda$=%s' % l, markersize=5)\n",
    "ax2.plot(np.cumsum(P),'o',label='$\\lambda$=%s' % l, markersize=2)\n",
    "#legend en latex para cada l\n",
    "ax1.legend([f'$\\lambda={l}$'])\n",
    "ax2.legend([f'$\\lambda={l}$'])"
   ]
  },
  {
   "cell_type": "code",
   "execution_count": null,
   "metadata": {},
   "outputs": [],
   "source": []
  },
  {
   "cell_type": "code",
   "execution_count": null,
   "metadata": {},
   "outputs": [],
   "source": []
  },
  {
   "cell_type": "code",
   "execution_count": null,
   "metadata": {},
   "outputs": [],
   "source": []
  }
 ],
 "metadata": {
  "kernelspec": {
   "display_name": "Python 3",
   "language": "python",
   "name": "python3"
  },
  "language_info": {
   "codemirror_mode": {
    "name": "ipython",
    "version": 3
   },
   "file_extension": ".py",
   "mimetype": "text/x-python",
   "name": "python",
   "nbconvert_exporter": "python",
   "pygments_lexer": "ipython3",
   "version": "3.8.5"
  }
 },
 "nbformat": 4,
 "nbformat_minor": 4
}
